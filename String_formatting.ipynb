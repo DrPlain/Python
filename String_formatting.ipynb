{
 "cells": [
  {
   "cell_type": "code",
   "execution_count": null,
   "id": "083d2c58",
   "metadata": {},
   "outputs": [],
   "source": [
    "#Formatting strings\n",
    "people = {'name':'Ebuka', 'age':29, 'email':'gideonobiasor@gmail.com'}\n",
    "print('My name is {}, I am {} years old.'.format(people['name'], people['age']))\n",
    "print('My name is {0[name]}, I am {0[age]} years old.'.format(people))\n",
    "print('My name is {name}, I am {age} years old.'.format(**people)) #unzipping/unpacking a dict\n"
   ]
  },
  {
   "cell_type": "code",
   "execution_count": null,
   "id": "e8a63187",
   "metadata": {},
   "outputs": [],
   "source": [
    "#Formatting integers\n",
    "for i in range(1, 11):\n",
    "    print('The value is {:04}'.format(i))"
   ]
  },
  {
   "cell_type": "code",
   "execution_count": null,
   "id": "e42046a6",
   "metadata": {},
   "outputs": [],
   "source": [
    "#Formatting floats\n",
    "pi = 3.14159265\n",
    "print('The value of pi to two decimal places is {:.2f}'.format(pi))"
   ]
  },
  {
   "cell_type": "code",
   "execution_count": null,
   "id": "de66b04f",
   "metadata": {},
   "outputs": [],
   "source": [
    "#Applying more than one formatting at once\n",
    "print('1 MB is equal to {:,.2f} bytes'.format(1000**2))"
   ]
  },
  {
   "cell_type": "code",
   "execution_count": null,
   "id": "8b240308",
   "metadata": {},
   "outputs": [],
   "source": [
    "#Formatting dates\n",
    "#The format placeholders were gotten from https://python.readthedocs.io/en/stable/library/datetime.html\n",
    "import datetime\n",
    "my_date = datetime.datetime(2016, 5, 25, 16, 30, 30)\n",
    "print('{0:%B %d, %Y} fell on a {0:%A} and was the {0:%j} day of the year'.format(my_date))"
   ]
  },
  {
   "cell_type": "code",
   "execution_count": null,
   "id": "20dbd44f",
   "metadata": {},
   "outputs": [],
   "source": []
  }
 ],
 "metadata": {
  "kernelspec": {
   "display_name": "Python 3 (ipykernel)",
   "language": "python",
   "name": "python3"
  },
  "language_info": {
   "codemirror_mode": {
    "name": "ipython",
    "version": 3
   },
   "file_extension": ".py",
   "mimetype": "text/x-python",
   "name": "python",
   "nbconvert_exporter": "python",
   "pygments_lexer": "ipython3",
   "version": "3.10.6"
  }
 },
 "nbformat": 4,
 "nbformat_minor": 5
}
