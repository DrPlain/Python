{
 "cells": [
  {
   "cell_type": "code",
   "execution_count": 1,
   "id": "0bbe5ad7",
   "metadata": {},
   "outputs": [],
   "source": [
    "from collections import Counter\n",
    "pupils = {'name':['Joe','Great','Hycinth','Ebuka','Emeka','Emeka'], 'age':[13, 14, 12, 1, 15]}"
   ]
  },
  {
   "cell_type": "code",
   "execution_count": 2,
   "id": "531d5eec",
   "metadata": {},
   "outputs": [
    {
     "name": "stdout",
     "output_type": "stream",
     "text": [
      "['Joe', 'Great', 'Hycinth', 'Ebuka', 'Emeka', 'Emeka']\n",
      "[13, 14, 12, 1, 15]\n",
      "Counter({'Emeka': 2, 'Joe': 1, 'Great': 1, 'Hycinth': 1, 'Ebuka': 1})\n"
     ]
    }
   ],
   "source": [
    "count = Counter(pupils['name'])\n",
    "print('{0[name]}\\n{0[age]}\\n{1}'.format(pupils,count))"
   ]
  },
  {
   "cell_type": "code",
   "execution_count": 7,
   "id": "9f4e87cd",
   "metadata": {},
   "outputs": [],
   "source": [
    "fruits = ['Mango', 'Apple', 'Cashew', 'Orange', 'Berry', 'Banana']"
   ]
  },
  {
   "cell_type": "code",
   "execution_count": 8,
   "id": "00245171",
   "metadata": {},
   "outputs": [
    {
     "name": "stdout",
     "output_type": "stream",
     "text": [
      "Mango\n",
      "Apple\n",
      "Cashew\n",
      "Orange\n",
      "Berry\n",
      "Banana\n"
     ]
    }
   ],
   "source": [
    "for fruit in fruits:\n",
    "    print(fruit)"
   ]
  },
  {
   "cell_type": "code",
   "execution_count": 9,
   "id": "02514202",
   "metadata": {},
   "outputs": [
    {
     "name": "stdout",
     "output_type": "stream",
     "text": [
      "Mango\n",
      "Apple\n",
      "Cashew\n",
      "Orange\n",
      "Berry\n",
      "Banana\n"
     ]
    }
   ],
   "source": [
    "for index in range(len(fruits)):\n",
    "    print(fruits[index])"
   ]
  },
  {
   "cell_type": "code",
   "execution_count": 11,
   "id": "74a85809",
   "metadata": {},
   "outputs": [
    {
     "name": "stdout",
     "output_type": "stream",
     "text": [
      "Mango\n",
      "Cashew\n",
      "Berry\n"
     ]
    }
   ],
   "source": [
    "for index in range(0, len(fruits), 2):\n",
    "    print(fruits[index])"
   ]
  },
  {
   "cell_type": "code",
   "execution_count": 19,
   "id": "a079bbc5",
   "metadata": {},
   "outputs": [
    {
     "name": "stdout",
     "output_type": "stream",
     "text": [
      "Apple\tCashew\tCashew\tOrange\tOrange\tOrange\tBerry\tBerry\tBerry\tBerry\tBanana\tBanana\tBanana\tBanana\tBanana\t"
     ]
    }
   ],
   "source": [
    "for i in range(len(fruits)):\n",
    "    for j in range(i + 1):\n",
    "        print('{}\\t'.format(fruits[i]), end='')\n",
    "        "
   ]
  },
  {
   "cell_type": "code",
   "execution_count": 22,
   "id": "c55ba603",
   "metadata": {},
   "outputs": [
    {
     "name": "stdout",
     "output_type": "stream",
     "text": [
      "2318\n"
     ]
    }
   ],
   "source": [
    "# Sum of all multiples of 3 and 5 taht are less than 100\n",
    "\n",
    "sum = 0\n",
    "for num in range(100):\n",
    "    if (num % 3 == 0) or (num % 5 == 0):\n",
    "        sum += num\n",
    "print(sum)\n",
    "    "
   ]
  },
  {
   "cell_type": "code",
   "execution_count": 24,
   "id": "a72e855a",
   "metadata": {},
   "outputs": [
    {
     "name": "stdout",
     "output_type": "stream",
     "text": [
      "-17\n"
     ]
    }
   ],
   "source": [
    "# Find the sum of all the negative numbers in the list\n",
    "\n",
    "given_list = [7, 5, 4, 3, 1, -2, -3, -5, -7]\n",
    "\n",
    "sum = 0\n",
    "for i in given_list:\n",
    "    if i < 0:\n",
    "        sum += i\n",
    "print(sum)"
   ]
  },
  {
   "cell_type": "code",
   "execution_count": null,
   "id": "ba949976",
   "metadata": {},
   "outputs": [],
   "source": []
  }
 ],
 "metadata": {
  "kernelspec": {
   "display_name": "Python 3 (ipykernel)",
   "language": "python",
   "name": "python3"
  },
  "language_info": {
   "codemirror_mode": {
    "name": "ipython",
    "version": 3
   },
   "file_extension": ".py",
   "mimetype": "text/x-python",
   "name": "python",
   "nbconvert_exporter": "python",
   "pygments_lexer": "ipython3",
   "version": "3.10.6"
  }
 },
 "nbformat": 4,
 "nbformat_minor": 5
}
