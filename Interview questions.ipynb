{
 "cells": [
  {
   "cell_type": "markdown",
   "id": "ef6e2cda",
   "metadata": {},
   "source": [
    "# Interview questions from Cs.dojo"
   ]
  },
  {
   "cell_type": "markdown",
   "id": "4522db9d",
   "metadata": {},
   "source": [
    "## 1. Write a function that takes an array as argument and prints the second largest number\n",
    "\n",
    "Step 1: Ask clarifyinq questions to cover age cases like if array is empty or contains one element\n",
    "\n",
    "Step 2: Whiteboard your solution"
   ]
  },
  {
   "cell_type": "code",
   "execution_count": null,
   "id": "2f4d95e2",
   "metadata": {},
   "outputs": [],
   "source": [
    "# Solution using sort function\n",
    "\n",
    "# 1: Handle special cases\n",
    "# 2: Use the sort() to sort the array in descending order\n",
    "# 3: Print index[1]\n",
    "\n",
    "def second_largest(array):\n",
    "    if len(array) == 0 or len(array) == 1:\n",
    "        return\n",
    "    array.sort(reverse=True)\n",
    "    print(array[1])\n",
    "\n",
    "# Testing\n",
    "age = [1,3,4,5,0,2]\n",
    "print(second_largest(age))"
   ]
  },
  {
   "cell_type": "code",
   "execution_count": null,
   "id": "5e256ada",
   "metadata": {},
   "outputs": [],
   "source": [
    "# Solution without sort function\n",
    "\n",
    "# 1: Handle special cases\n",
    "# 2: Manually sort the array such that largest element is stored at index[0]\n",
    "# 3: Print index[1]\n",
    "\n",
    "def second_largest2(array):\n",
    "    if len(array) == 0 or len(array) == 1:\n",
    "        return\n",
    "    for i in range(len(a)):\n",
    "        if array[i] < array[i + 1]:\n",
    "            array[i] = array[i + 1]\n",
    "    print (array[1])\n",
    "\n",
    "# Testing\n",
    "age = [2, 2, 1]\n",
    "print(second_largest(age))"
   ]
  },
  {
   "cell_type": "markdown",
   "id": "8dd02489",
   "metadata": {},
   "source": [
    "## 2. Write a function that takes two strings and returns True if they are reverses of each other\n",
    "Assume that the two strings are not empty"
   ]
  },
  {
   "cell_type": "code",
   "execution_count": null,
   "id": "192da42a",
   "metadata": {},
   "outputs": [],
   "source": [
    "# Solution using slicing to reverse string\n",
    "\n",
    "# Step 1: Handle assumptions, return if not statisfied\n",
    "# Step 2: Reverse one string and test if it is equal to the second str\n",
    "# step 3: Reversing was done using slicing[::-1] which means\n",
    "# start from the last to the first and go -1 step\n",
    "# Step 4: Return True if step 2 is true\n",
    "\n",
    "def are_reverses(string_1, string_2):\n",
    "    if len(string_1) != len(string_2):\n",
    "        return\n",
    "    rev_string_1 = string_1[::-1]\n",
    "    if rev_string_1 == string_2:\n",
    "        return True\n",
    "    return False\n",
    "    \n",
    "str1 = 'abe'\n",
    "str2 = 'cba'\n",
    "print(are_reverses(str1, str2))"
   ]
  },
  {
   "cell_type": "code",
   "execution_count": null,
   "id": "a1b51883",
   "metadata": {},
   "outputs": [],
   "source": [
    "# Solution using loop\n",
    "\n",
    "def are_reverses(string_1, string_2):\n",
    "    if len(string_1) != len(string_2):\n",
    "        return\n",
    "    rev_string_1 = ''\n",
    "    \n",
    "    for i in range(len(string_1) - 1, -1, -1):\n",
    "        rev_string_1 += string_1[i]\n",
    "    \n",
    "    if rev_string_1 == string_2:\n",
    "        return True\n",
    "    return False\n",
    "\n",
    "str1 = 'Ebuka'\n",
    "str2 = 'akube'\n",
    "print(are_reverses(str1, str2))"
   ]
  },
  {
   "cell_type": "code",
   "execution_count": null,
   "id": "5ad42905",
   "metadata": {},
   "outputs": [],
   "source": [
    "# Solution using reversed() method\n",
    "\n",
    "# Solution using loop\n",
    "\n",
    "def are_reverses(string_1, string_2):\n",
    "    if len(string_1) != len(string_2):\n",
    "        return\n",
    "    \n",
    "    rev_string_1 = ''.join(reversed(string_1))\n",
    "    if rev_string_1 == string_2:\n",
    "        return True\n",
    "    \n",
    "    return False\n",
    "\n",
    "str1 = 'Ebuka'\n",
    "str2 = 'akubE'\n",
    "print(are_reverses(str1, str2))"
   ]
  },
  {
   "cell_type": "markdown",
   "id": "4263320b",
   "metadata": {},
   "source": [
    "## 3. Write a function that compares two integers represented as string and returns True if the first string is greater than the second. All exceptions should be handled correctly\n",
    "Example: \"1234\" > \"123\" = True\n",
    "\n",
    "### Clarifying questions:\n",
    "1. Can the string be empty? No\n",
    "2. Can there be negative numbers? No\n",
    "3. Can the numbers have leading zeros e.g \"0034\"? No\n",
    "3. Can I use int(str) to convert the strings to numbers? No, try solving it without typecasting"
   ]
  },
  {
   "cell_type": "code",
   "execution_count": 126,
   "id": "c45303cb",
   "metadata": {},
   "outputs": [],
   "source": [
    "# Solution without int(str) convert method\n",
    "# Exceptions were also raised and handled\n",
    "\n",
    "def compare_numStr(numStr1, numStr2):\n",
    "    try:\n",
    "        if numStr1 == '' or numStr2 == '':\n",
    "            raise ValueError('String must not be empty')\n",
    "            return 'Invalid argument'\n",
    "        if numStr1[0] =='-' or numStr2[0] == '-':\n",
    "            raise ValueError('Negative numbers not allowed')\n",
    "            return 'Invalid argument'\n",
    "        if len(numStr1) > len(numStr2):\n",
    "            lent = len(numStr1)\n",
    "        else:\n",
    "            lent = len(numStr2)\n",
    "        for i in range(lent):\n",
    "            if numStr1[i] == '0' or numStr2[i] == '0':\n",
    "                if len(numStr1) != 1 or len(numStr2) != 1:\n",
    "                    raise ValueError('String cannot contain a leading zero')\n",
    "                    break\n",
    "            elif numStr1[i] != '0' or numStr2[i] != '0':\n",
    "                break\n",
    "    except ValueError as v:\n",
    "        print(v)\n",
    "    else:\n",
    "        if len(numStr1) > len(numStr2):\n",
    "            return True\n",
    "        elif len(numStr1) < len(numStr2):\n",
    "            return False\n",
    "        elif len(numStr1) == len(numStr2):\n",
    "            for i in range(len(numStr1)):\n",
    "                if numStr1[i] > numStr2[i]:\n",
    "                    return True\n",
    "            return False"
   ]
  },
  {
   "cell_type": "code",
   "execution_count": 130,
   "id": "20aa3f99",
   "metadata": {},
   "outputs": [
    {
     "name": "stdout",
     "output_type": "stream",
     "text": [
      "True\n",
      "\n",
      "String must not be empty\n",
      "None\n",
      "\n",
      "Negative numbers not allowed\n",
      "None\n",
      "\n",
      "String cannot contain a leading zero\n",
      "None\n",
      "\n",
      "False\n",
      "\n",
      "True\n",
      "\n"
     ]
    }
   ],
   "source": [
    "# Test cases\n",
    "\n",
    "print('{}\\n'.format(compare_numStr(\"1234\", \"123\")))\n",
    "print('{}\\n'.format(compare_numStr(\"\", \"666\")))\n",
    "print('{}\\n'.format(compare_numStr(\"12\", \"-10\")))\n",
    "print('{}\\n'.format(compare_numStr(\"0012\", \"24\")))\n",
    "print('{}\\n'.format(compare_numStr(\"222\", \"222\")))\n",
    "print('{}\\n'.format(compare_numStr(\"2\", \"0\")))\n"
   ]
  },
  {
   "cell_type": "markdown",
   "id": "9e981c50",
   "metadata": {},
   "source": [
    "## 4. Create a 2D array and prints its content using two methods"
   ]
  },
  {
   "cell_type": "code",
   "execution_count": 131,
   "id": "868e65c3",
   "metadata": {},
   "outputs": [],
   "source": [
    "# Declaring and initializing a 2D array\n",
    "\n",
    "arr_2D = [[2, 3, 5, 4],\n",
    "          [4, 5, 1, 4],\n",
    "          [8, 2, 2, 6]]\n",
    "        \n",
    "        "
   ]
  },
  {
   "cell_type": "code",
   "execution_count": 133,
   "id": "fdee47d3",
   "metadata": {},
   "outputs": [
    {
     "name": "stdout",
     "output_type": "stream",
     "text": [
      "2 3 5 4 \n",
      "4 5 1 4 \n",
      "8 2 2 6 \n"
     ]
    }
   ],
   "source": [
    "# Method 1\n",
    "\n",
    "for row in arr_2D:\n",
    "    for item in row:\n",
    "        print('{} '.format(item), end='')\n",
    "    print()"
   ]
  },
  {
   "cell_type": "code",
   "execution_count": 139,
   "id": "9ccbfa43",
   "metadata": {},
   "outputs": [
    {
     "name": "stdout",
     "output_type": "stream",
     "text": [
      "2 3 5 4 \n",
      "4 5 1 4 \n",
      "8 2 2 6 \n"
     ]
    }
   ],
   "source": [
    "# Method 2\n",
    "\n",
    "for i in range(len(arr_2D)):\n",
    "    for j in range(len(arr_2D[i])):\n",
    "        print('{} '.format(arr_2D[i][j]), end='')\n",
    "    print()"
   ]
  },
  {
   "cell_type": "markdown",
   "id": "5c533328",
   "metadata": {},
   "source": [
    "## 5. You're given a 2D array with the same number of rows and columns. Write a function that adds up the diagonal elements and returns the sum."
   ]
  },
  {
   "cell_type": "code",
   "execution_count": 155,
   "id": "2ccfde75",
   "metadata": {},
   "outputs": [],
   "source": [
    "\n",
    "def sum_2dArr(array):\n",
    "    sum = 0\n",
    "    try:\n",
    "        if len(array) != len(array[0]):\n",
    "            raise ValueError('Arrays must have the same number of rows and columns')\n",
    "            return\n",
    "    except ValueError as v:\n",
    "        print(v)\n",
    "    else:\n",
    "        for i in range(len(array)):\n",
    "            for j in range(len(array[i])):\n",
    "                if i == j:\n",
    "                    sum += array[i][j]\n",
    "        return sum"
   ]
  },
  {
   "cell_type": "code",
   "execution_count": 156,
   "id": "725eebc1",
   "metadata": {},
   "outputs": [
    {
     "name": "stdout",
     "output_type": "stream",
     "text": [
      "15\n",
      "\n",
      "Arrays must have the same number of rows and columns\n",
      "None\n"
     ]
    }
   ],
   "source": [
    "# Test cases\n",
    "\n",
    "arr = [[1,2,3],\n",
    "       [4,5,6],\n",
    "       [7,8,9]]\n",
    "\n",
    "arr2 = [[1,2,3,4],\n",
    "        [4,5,6,5],\n",
    "        [7,8,9,10]]\n",
    "\n",
    "\n",
    "print(sum_2dArr(arr))\n",
    "print()\n",
    "print(sum_2dArr(arr2))"
   ]
  },
  {
   "cell_type": "markdown",
   "id": "0972335a",
   "metadata": {},
   "source": [
    "## 6. Can rooks attack one another?\n",
    "You are given a configuration of a chess board with rooks in a 2-dimensional array\n",
    "Example input:\n",
    "\n",
    "[[1,0,0,0],\n",
    "\n",
    "[0,1,0,0,],\n",
    "\n",
    "[0,0,0,0],\n",
    "\n",
    "[0,0,0,0]]\n",
    "\n",
    "1 represents that a rook is in the corresponding space on the board and 0 represents that there's nothing there.\n",
    "### Remember, rooks are able to move horizontally and vertically over any number of spaces\n"
   ]
  },
  {
   "cell_type": "code",
   "execution_count": 228,
   "id": "db6c6b8c",
   "metadata": {},
   "outputs": [],
   "source": [
    "def rooks_are_safe(array):\n",
    "    \n",
    "    count = 0\n",
    "    \n",
    "    for i in range(len(array)):\n",
    "        for j in range(len(array[i])):\n",
    "            if array[i][j] == 1 or array[j][i] == 1:\n",
    "                count += 1\n",
    "        if count > 1:\n",
    "            return False\n",
    "        else:\n",
    "            count = 0\n",
    "    return True\n",
    "                "
   ]
  },
  {
   "cell_type": "code",
   "execution_count": 235,
   "id": "67608b15",
   "metadata": {},
   "outputs": [
    {
     "name": "stdout",
     "output_type": "stream",
     "text": [
      "True\n",
      "False\n",
      "True\n",
      "False\n"
     ]
    }
   ],
   "source": [
    "\n",
    "\n",
    "arr1 = [[1]]\n",
    "\n",
    "arr2 = [[1,0],\n",
    "        [1,0]]\n",
    "\n",
    "arr3 = [[1,0,0,0],\n",
    "       [0,1,0,0],\n",
    "       [0,0,0,1],\n",
    "       [0,0,0,0]]\n",
    "\n",
    "arr4 = [[1,0,0,0],\n",
    "       [0,1,0,0],\n",
    "       [0,0,0,1],\n",
    "       [0,0,0,1]]\n",
    "\n",
    "print(rooks_are_safe(arr))\n",
    "print(rooks_are_safe(arr2))\n",
    "print(rooks_are_safe(arr3))\n",
    "print(rooks_are_safe(arr4))"
   ]
  },
  {
   "cell_type": "code",
   "execution_count": null,
   "id": "8ce6df92",
   "metadata": {},
   "outputs": [],
   "source": []
  }
 ],
 "metadata": {
  "kernelspec": {
   "display_name": "Python 3 (ipykernel)",
   "language": "python",
   "name": "python3"
  },
  "language_info": {
   "codemirror_mode": {
    "name": "ipython",
    "version": 3
   },
   "file_extension": ".py",
   "mimetype": "text/x-python",
   "name": "python",
   "nbconvert_exporter": "python",
   "pygments_lexer": "ipython3",
   "version": "3.10.6"
  }
 },
 "nbformat": 4,
 "nbformat_minor": 5
}
