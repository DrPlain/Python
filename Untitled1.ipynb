{
 "cells": [
  {
   "cell_type": "markdown",
   "id": "b8f72182",
   "metadata": {},
   "source": [
    "Write a function that prints a matrix of integers.\n",
    "\n",
    "Prototype: def print_matrix_integer(matrix=[[]]):\n",
    "Format: see example\n",
    "You are not allowed to import any module\n",
    "You can assume that the list only contains integers\n",
    "You are not allowed to cast integers into strings\n",
    "You have to use str.format() to print integers"
   ]
  },
  {
   "cell_type": "code",
   "execution_count": 2,
   "id": "1e5a2b47",
   "metadata": {},
   "outputs": [],
   "source": [
    "def print_matrix_integer(matrix=[[]]):\n",
    "    pass\n",
    "    "
   ]
  },
  {
   "cell_type": "code",
   "execution_count": 11,
   "id": "7e4b0f1e",
   "metadata": {},
   "outputs": [
    {
     "name": "stdout",
     "output_type": "stream",
     "text": [
      "1, 2, 3, 4 9, 5, 4 "
     ]
    }
   ],
   "source": [
    "matrix_1 = [1,2,3,4,9,5,4]\n",
    "\n",
    "for element in matrix_1:\n",
    "    print(element, end=', ' if element != matrix_1[6] else ' ')"
   ]
  },
  {
   "cell_type": "code",
   "execution_count": 14,
   "id": "11d78a3b",
   "metadata": {},
   "outputs": [
    {
     "name": "stdout",
     "output_type": "stream",
     "text": [
      "1, 2, 3, 4, 9, 5, 4 "
     ]
    }
   ],
   "source": [
    "for i in range(len(matrix_1)):\n",
    "    print(matrix_1[i], end=', ' if i < len(matrix_1) - 1 else ' ')"
   ]
  },
  {
   "cell_type": "code",
   "execution_count": 15,
   "id": "8bee77d5",
   "metadata": {},
   "outputs": [],
   "source": [
    "matrix = [\n",
    "    [1, 2, 3],\n",
    "    [4, 5, 6],\n",
    "    [7, 8, 9]\n",
    "]"
   ]
  },
  {
   "cell_type": "code",
   "execution_count": 21,
   "id": "58a4c557",
   "metadata": {},
   "outputs": [
    {
     "name": "stdout",
     "output_type": "stream",
     "text": [
      "1 2 3 \n",
      "4 5 6 \n",
      "7 8 9 \n"
     ]
    }
   ],
   "source": [
    "for row in matrix:\n",
    "    for item in row:\n",
    "        print(item, end=' ')\n",
    "    print()"
   ]
  },
  {
   "cell_type": "code",
   "execution_count": 26,
   "id": "dc414be4",
   "metadata": {},
   "outputs": [
    {
     "name": "stdout",
     "output_type": "stream",
     "text": [
      "1, 2, 3\n",
      "4, 5, 6\n",
      "7, 8, 9\n"
     ]
    }
   ],
   "source": [
    "\n",
    "for i in range(len(matrix)):\n",
    "    for j in range(len(matrix[i])):\n",
    "        print(matrix[i][j], end=', ' if j < (len(matrix[i]) - 1) else '')\n",
    "    print()"
   ]
  },
  {
   "cell_type": "markdown",
   "id": "78f72c6d",
   "metadata": {},
   "source": [
    "Write a function that adds 2 tuples.\n",
    "\n",
    "Prototype: def add_tuple(tuple_a=(), tuple_b=()):\n",
    "\n",
    "    Returns a tuple with 2 integers:\n",
    "    The first element should be the addition of the first element of each argument\n",
    "    The second element should be the addition of the second element of each argument\n",
    "    You are not allowed to import any module\n",
    "    You can assume that the two tuples will only contain integers\n",
    "    If a tuple is smaller than 2, use the value 0 for each missing integer\n",
    "    If a tuple is bigger than 2, use only the first 2 integer"
   ]
  },
  {
   "cell_type": "code",
   "execution_count": 52,
   "id": "f9a48a86",
   "metadata": {},
   "outputs": [],
   "source": [
    "def add_tuple(tuple_a=(), tuple_b=()):\n",
    "    if len(tuple_a) < 2:\n",
    "        if len(tuple_a) == 1:\n",
    "            tuple_a = (tuple_a[0], 0)\n",
    "        else:\n",
    "            tuple_a = (0, 0)\n",
    "            \n",
    "    if len(tuple_b) < 2:\n",
    "        if len(tuple_b) == 1:\n",
    "            tuple_b = (tuple_b[0], 0)\n",
    "        else:\n",
    "            tuple_b = (0, 0)\n",
    "    \n",
    "    return (tuple_a[0] + tuple_b[0], tuple_a[1] + tuple_b[1])"
   ]
  },
  {
   "cell_type": "code",
   "execution_count": 53,
   "id": "ae8bcdcd",
   "metadata": {},
   "outputs": [
    {
     "name": "stdout",
     "output_type": "stream",
     "text": [
      "(89, 100)\n",
      "(2, 89)\n",
      "(1, 89)\n"
     ]
    }
   ],
   "source": [
    "tuple_a = (1, 89)\n",
    "tuple_b = (88, 11)\n",
    "new_tuple = add_tuple(tuple_a, tuple_b)\n",
    "print(new_tuple)\n",
    "\n",
    "print(add_tuple(tuple_a, (1, )))\n",
    "print(add_tuple(tuple_a, ()))"
   ]
  },
  {
   "cell_type": "code",
   "execution_count": 12,
   "id": "00e8645b",
   "metadata": {},
   "outputs": [],
   "source": [
    "def square_matrix_simple(matrix=[]):\n",
    "    new = [matrix[i][j] * matrix[i][j for i in range(len(matrix))] for j in range(len(matrix[i]))]\n",
    "    return new"
   ]
  },
  {
   "cell_type": "code",
   "execution_count": null,
   "id": "358abfb5",
   "metadata": {},
   "outputs": [],
   "source": [
    "for i in range(len(matrix)):\n",
    "    for j in range(len(matrix[i])):\n",
    "        [matrix[i][j]]"
   ]
  },
  {
   "cell_type": "code",
   "execution_count": 17,
   "id": "8c80add3",
   "metadata": {},
   "outputs": [],
   "source": [
    "matrix = [\n",
    "    [1, 2, 3],\n",
    "    [4, 5, 6],\n",
    "    [7, 8, 9]\n",
    "]"
   ]
  },
  {
   "cell_type": "code",
   "execution_count": 28,
   "id": "8bd69c3f",
   "metadata": {},
   "outputs": [],
   "source": [
    "\n",
    "def uniq_add(my_list=[]):\n",
    "    return sum(set(my_list))"
   ]
  },
  {
   "cell_type": "code",
   "execution_count": 29,
   "id": "67361040",
   "metadata": {},
   "outputs": [
    {
     "name": "stdout",
     "output_type": "stream",
     "text": [
      "Result: 15\n"
     ]
    }
   ],
   "source": [
    "my_list = [1, 2, 3, 1, 4, 2, 5]\n",
    "result = uniq_add(my_list)\n",
    "print(\"Result: {:d}\".format(result))"
   ]
  },
  {
   "cell_type": "code",
   "execution_count": 35,
   "id": "3ac6c95f",
   "metadata": {},
   "outputs": [
    {
     "name": "stdout",
     "output_type": "stream",
     "text": [
      "Number of keys: 3\n"
     ]
    }
   ],
   "source": [
    "a_dictionary = { 'language': \"C\", 'track': \"Low level\",'number': 13, }\n",
    "nb_keys = len(a_dictionary)\n",
    "print(\"Number of keys: {:d}\".format(nb_keys))"
   ]
  },
  {
   "cell_type": "code",
   "execution_count": 36,
   "id": "d7776e64",
   "metadata": {},
   "outputs": [
    {
     "name": "stdout",
     "output_type": "stream",
     "text": [
      "['language', 'number', 'track']\n"
     ]
    }
   ],
   "source": [
    "print(sorted(a_dictionary))"
   ]
  },
  {
   "cell_type": "code",
   "execution_count": 37,
   "id": "daafe9ee",
   "metadata": {},
   "outputs": [
    {
     "name": "stdout",
     "output_type": "stream",
     "text": [
      "{'language': 'C', 'track': 'Low level', 'number': 13}\n"
     ]
    }
   ],
   "source": [
    "print(a_dictionary)"
   ]
  },
  {
   "cell_type": "code",
   "execution_count": 41,
   "id": "d0964e6e",
   "metadata": {},
   "outputs": [
    {
     "name": "stdout",
     "output_type": "stream",
     "text": [
      "dict_items([('John', 12), ('Bob', 14), ('Mike', 14), ('Molly', 16), ('Adam', 10)])\n"
     ]
    }
   ],
   "source": [
    "a = {'John': 12, 'Bob': 14, 'Mike': 14, 'Molly': 16, 'Adam': 10}\n",
    "keys = a.items()\n",
    "print(keys)"
   ]
  },
  {
   "cell_type": "code",
   "execution_count": 54,
   "id": "3bb4dc2d",
   "metadata": {},
   "outputs": [
    {
     "data": {
      "text/plain": [
       "'Molly'"
      ]
     },
     "execution_count": 54,
     "metadata": {},
     "output_type": "execute_result"
    }
   ],
   "source": [
    "sorted_list = sorted(a.items(), key=lambda item: item[1], reverse=True)\n",
    "sorted_list[0][0]"
   ]
  },
  {
   "cell_type": "code",
   "execution_count": 45,
   "id": "4ed06070",
   "metadata": {},
   "outputs": [
    {
     "data": {
      "text/plain": [
       "[('Adam', 10), ('Bob', 14), ('John', 12), ('Mike', 14), ('Molly', 16)]"
      ]
     },
     "execution_count": 45,
     "metadata": {},
     "output_type": "execute_result"
    }
   ],
   "source": [
    "sorted(a.items())"
   ]
  },
  {
   "cell_type": "code",
   "execution_count": null,
   "id": "023db079",
   "metadata": {},
   "outputs": [],
   "source": [
    "def square_matrix_map(matrix=[]):\n",
    "    return (list(map(lambda x: )))"
   ]
  }
 ],
 "metadata": {
  "kernelspec": {
   "display_name": "Python 3 (ipykernel)",
   "language": "python",
   "name": "python3"
  },
  "language_info": {
   "codemirror_mode": {
    "name": "ipython",
    "version": 3
   },
   "file_extension": ".py",
   "mimetype": "text/x-python",
   "name": "python",
   "nbconvert_exporter": "python",
   "pygments_lexer": "ipython3",
   "version": "3.10.6"
  }
 },
 "nbformat": 4,
 "nbformat_minor": 5
}
