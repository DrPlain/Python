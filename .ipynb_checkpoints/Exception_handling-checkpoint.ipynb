{
 "cells": [
  {
   "cell_type": "code",
   "execution_count": 24,
   "id": "a6c61540",
   "metadata": {},
   "outputs": [
    {
     "name": "stdout",
     "output_type": "stream",
     "text": [
      "File not found\n",
      "Finally executing...\n"
     ]
    }
   ],
   "source": [
    "# Handling exceptions\n",
    "# Exception captures ALL error messages and treat them as one\n",
    "# More specific exceptions can be captured before capturing the more general Exception\n",
    "\n",
    "# Customizing our exception messages\n",
    "try:\n",
    "    '''The code to access for possible exceptions'''\n",
    "    f = open('_numbers.txt')\n",
    "except FileNotFoundError:\n",
    "    '''Code block to run if specified exception is raised'''\n",
    "    print('File not found')\n",
    "except Exception:\n",
    "    '''Code block to run if any exception outside specified exceptions are raised'''\n",
    "    print('Something went wrong!')\n",
    "else:\n",
    "    '''Code block to run if no exceptions are raised'''\n",
    "    print(f.read())\n",
    "    f.close()\n",
    "finally:\n",
    "    '''Code block to run whether exceptions are raised or not'''\n",
    "    print('Finally executing...')"
   ]
  },
  {
   "cell_type": "code",
   "execution_count": 27,
   "id": "59ec4aef",
   "metadata": {},
   "outputs": [
    {
     "name": "stdout",
     "output_type": "stream",
     "text": [
      "name 'name' is not defined\n",
      "Finally executing...\n"
     ]
    }
   ],
   "source": [
    "# Using error messages from python in our exceptions\n",
    "try:\n",
    "    f = open('numbers.txt')\n",
    "    var = name\n",
    "except FileNotFoundError as specError:\n",
    "    print(specError)\n",
    "except Exception as genError:\n",
    "    print(genError)\n",
    "else:\n",
    "    print(f.read())\n",
    "    f.close()\n",
    "finally:\n",
    "    print('Finally executing...')"
   ]
  },
  {
   "cell_type": "code",
   "execution_count": 31,
   "id": "273df108",
   "metadata": {},
   "outputs": [
    {
     "name": "stdout",
     "output_type": "stream",
     "text": [
      "This is block one\n",
      "This is block two\n",
      "This is block three....................\n",
      "This is block four\n",
      "This is block five\n",
      "This is block six\n",
      "\n",
      "Finally executing...\n"
     ]
    }
   ],
   "source": [
    "# Raising our own exception\n",
    "# Let's raise an exception if attempt to open a specified file is made\n",
    "\n",
    "try:\n",
    "    f = open('numbers.txt')\n",
    "    if f.name == 'sample.ipynb':\n",
    "        raise Exception\n",
    "except FileNotFoundError as specError:\n",
    "    print(specError)\n",
    "except Exception as genError:\n",
    "    print('Accessed Denied')\n",
    "else:\n",
    "    print(f.read())\n",
    "    f.close()\n",
    "finally:\n",
    "    print('Finally executing...')"
   ]
  },
  {
   "cell_type": "code",
   "execution_count": null,
   "id": "a84e147c",
   "metadata": {},
   "outputs": [],
   "source": []
  }
 ],
 "metadata": {
  "kernelspec": {
   "display_name": "Python 3 (ipykernel)",
   "language": "python",
   "name": "python3"
  },
  "language_info": {
   "codemirror_mode": {
    "name": "ipython",
    "version": 3
   },
   "file_extension": ".py",
   "mimetype": "text/x-python",
   "name": "python",
   "nbconvert_exporter": "python",
   "pygments_lexer": "ipython3",
   "version": "3.10.6"
  }
 },
 "nbformat": 4,
 "nbformat_minor": 5
}
