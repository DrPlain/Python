{
 "cells": [
  {
   "cell_type": "code",
   "execution_count": 45,
   "id": "15d57381",
   "metadata": {},
   "outputs": [],
   "source": [
    "from datetime import datetime\n",
    "import pytz"
   ]
  },
  {
   "cell_type": "code",
   "execution_count": 49,
   "id": "9e210f5e",
   "metadata": {},
   "outputs": [
    {
     "name": "stdout",
     "output_type": "stream",
     "text": [
      "2016-12-25\n",
      "13:44:00\n"
     ]
    }
   ],
   "source": [
    "# datetime method from datetime module combines date and time together\n",
    "# both of which can be accessed individual by calling date() or time() method on the datetime obj\n",
    "\n",
    "dt = datetime(2016, 12, 25, 13, 44)\n",
    "print('{}\\n{}'.format(dt.date(), dt.time()))"
   ]
  },
  {
   "cell_type": "code",
   "execution_count": 56,
   "id": "5c1889f8",
   "metadata": {},
   "outputs": [
    {
     "name": "stdout",
     "output_type": "stream",
     "text": [
      "Sun Dec 25 13:44:00 2016\n",
      "<class 'str'>\n"
     ]
    }
   ],
   "source": []
  },
  {
   "cell_type": "code",
   "execution_count": 33,
   "id": "89c1ae0f",
   "metadata": {},
   "outputs": [
    {
     "name": "stdout",
     "output_type": "stream",
     "text": [
      "December 25, 2016 - 13:44:00\n",
      "Date: December 25, 2016\n",
      "Time: 13:44:00\n",
      "December 25, 2016 fell on a Sunday and was the 360 day of the year\n"
     ]
    }
   ],
   "source": [
    "# Formatting dates\n",
    "# Available formats: https://python.readthedocs.io/en/stable/library/datetime.html\n",
    "\n",
    "print('{:%B %d, %Y - %H:%M:%S}'.format(dt))\n",
    "print('Date: {0:%B %d, %Y}\\nTime: {0:%H:%M:%S}'.format(dt))\n",
    "print('{0:%B %d, %Y} fell on a {0:%A} and was the {0:%j} day of the year'.format(dt))"
   ]
  },
  {
   "cell_type": "code",
   "execution_count": 55,
   "id": "1e212e94",
   "metadata": {},
   "outputs": [
    {
     "name": "stdout",
     "output_type": "stream",
     "text": [
      "2022-09-17 14:38:17.219337\n",
      "2022-09-17 14:38:17.219336\n",
      "2022-09-17 13:38:17.219336+00:00\n",
      "2022-09-17 13:38:17.219336\n",
      "September 17, 2022 fell on a Saturday and was the 260 day of the year\n"
     ]
    }
   ],
   "source": [
    "# datetime methods to get present time\n",
    "dt_today = datetime.today()\n",
    "dt_now = datetime.now()\n",
    "dt_now_tz = datetime.now(tz=pytz.UTC)\n",
    "dt_utcnow = datetime.utcnow()\n",
    "\n",
    "print(dt_today)\n",
    "print(dt_now)\n",
    "print(dt_now_tz)\n",
    "print(dt_utcnow)\n",
    "print('{0:%B %d, %Y} fell on a {0:%A} and was the {0:%j} day of the year'.format(dt_now))"
   ]
  },
  {
   "cell_type": "code",
   "execution_count": 70,
   "id": "bde4f7ce",
   "metadata": {},
   "outputs": [
    {
     "name": "stdout",
     "output_type": "stream",
     "text": [
      "2016-12-25 13:44:00\n",
      "December 25, 2016\n",
      "Sun Dec 25 13:44:00 2016\n",
      "<class 'datetime.datetime'>\n",
      "<class 'str'>\n",
      "<class 'str'>\n"
     ]
    }
   ],
   "source": [
    "# converting datetime object to string\n",
    "# ctime() method converts datetime obj to string\n",
    "# strftime() method converts datetime obj to string in a particular format\n",
    "\n",
    "dt_str = dt.strftime('%B %d, %Y')\n",
    "dt_str2 = dt.ctime()\n",
    "\n",
    "print(dt)\n",
    "print(dt_str)\n",
    "print(dt_str2)\n",
    "print(type(dt))\n",
    "print(type(dt_str))\n",
    "print(type(dt_str2))"
   ]
  },
  {
   "cell_type": "code",
   "execution_count": 68,
   "id": "4a504703",
   "metadata": {},
   "outputs": [
    {
     "name": "stdout",
     "output_type": "stream",
     "text": [
      "2016-12-25 00:00:00\n",
      "<class 'datetime.datetime'>\n",
      "<class 'str'>\n"
     ]
    }
   ],
   "source": [
    "# converting str time to datetime object using strptime()\n",
    "\n",
    "dt_str = 'December 25, 2016'\n",
    "dt_obj = datetime.strptime(dt_str, '%B %d, %Y')\n",
    "\n",
    "print(dt_obj)\n",
    "print(type(dt_obj))\n",
    "print(type(dt_str))"
   ]
  },
  {
   "cell_type": "code",
   "execution_count": null,
   "id": "44355fcb",
   "metadata": {},
   "outputs": [],
   "source": []
  }
 ],
 "metadata": {
  "kernelspec": {
   "display_name": "Python 3 (ipykernel)",
   "language": "python",
   "name": "python3"
  },
  "language_info": {
   "codemirror_mode": {
    "name": "ipython",
    "version": 3
   },
   "file_extension": ".py",
   "mimetype": "text/x-python",
   "name": "python",
   "nbconvert_exporter": "python",
   "pygments_lexer": "ipython3",
   "version": "3.10.6"
  }
 },
 "nbformat": 4,
 "nbformat_minor": 5
}
