{
 "cells": [
  {
   "cell_type": "markdown",
   "id": "baf7efaf",
   "metadata": {},
   "source": [
    "# Interview questions from Cs.dojo"
   ]
  },
  {
   "cell_type": "markdown",
   "id": "4af4ec42",
   "metadata": {},
   "source": [
    "## 1. Write a function that takes an array as argument and prints the second largest number\n",
    "\n",
    "Step 1: Ask clarifyinq questions to cover age cases like if array is empty or contains one element\n",
    "\n",
    "Step 2: Whiteboard your solution"
   ]
  },
  {
   "cell_type": "code",
   "execution_count": 29,
   "id": "1d69b98d",
   "metadata": {},
   "outputs": [
    {
     "name": "stdout",
     "output_type": "stream",
     "text": [
      "4\n",
      "None\n"
     ]
    }
   ],
   "source": [
    "# Solution using sort function\n",
    "\n",
    "# 1: Handle special cases\n",
    "# 2: Use the sort() to sort the array in descending order\n",
    "# 3: Print index[1]\n",
    "\n",
    "def second_largest(array):\n",
    "    if len(array) == 0 or len(array) == 1:\n",
    "        return\n",
    "    array.sort(reverse=True)\n",
    "    print(array[1])\n",
    "\n",
    "# Testing\n",
    "age = [1,3,4,5,0,2]\n",
    "print(second_largest(age))"
   ]
  },
  {
   "cell_type": "code",
   "execution_count": 34,
   "id": "1096242c",
   "metadata": {},
   "outputs": [
    {
     "name": "stdout",
     "output_type": "stream",
     "text": [
      "2\n",
      "None\n"
     ]
    }
   ],
   "source": [
    "# Solution without sort function\n",
    "\n",
    "# 1: Handle special cases\n",
    "# 2: Manually sort the array such that largest element is stored at index[0]\n",
    "# 3: Print index[1]\n",
    "\n",
    "def second_largest2(array):\n",
    "    if len(array) == 0 or len(array) == 1:\n",
    "        return\n",
    "    for i in range(len(a)):\n",
    "        if array[i] < array[i + 1]:\n",
    "            array[i] = array[i + 1]\n",
    "    print (array[1])\n",
    "\n",
    "# Testing\n",
    "age = [2, 2, 1]\n",
    "print(second_largest(age))"
   ]
  },
  {
   "cell_type": "markdown",
   "id": "e05a5ff3",
   "metadata": {},
   "source": [
    "## 2. Write a function that takes two strings and returns True if they are reverses of each other\n",
    "Assume that the two strings are not empty"
   ]
  },
  {
   "cell_type": "code",
   "execution_count": 39,
   "id": "68a70821",
   "metadata": {},
   "outputs": [
    {
     "name": "stdout",
     "output_type": "stream",
     "text": [
      "False\n"
     ]
    }
   ],
   "source": [
    "# Solution using slicing to reverse string\n",
    "\n",
    "# Step 1: Handle assumptions, return if not statisfied\n",
    "# Step 2: Reverse one string and test if it is equal to the second str\n",
    "# step 3: Reversing was done using slicing[::-1] which means\n",
    "# start from the last to the first and go -1 step\n",
    "# Step 4: Return True if step 2 is true\n",
    "\n",
    "def are_reverses(string_1, string_2):\n",
    "    if len(string_1) != len(string_2):\n",
    "        return\n",
    "    rev_string_1 = string_1[::-1]\n",
    "    if rev_string_1 == string_2:\n",
    "        return True\n",
    "    return False\n",
    "    \n",
    "str1 = 'abe'\n",
    "str2 = 'cba'\n",
    "print(are_reverses(str1, str2))"
   ]
  },
  {
   "cell_type": "code",
   "execution_count": 48,
   "id": "ca5b3fad",
   "metadata": {},
   "outputs": [
    {
     "name": "stdout",
     "output_type": "stream",
     "text": [
      "False\n"
     ]
    }
   ],
   "source": [
    "# Solution using loop\n",
    "\n",
    "def are_reverses(string_1, string_2):\n",
    "    if len(string_1) != len(string_2):\n",
    "        return\n",
    "    rev_string_1 = ''\n",
    "    \n",
    "    for i in range(len(string_1) - 1, -1, -1):\n",
    "        rev_string_1 += string_1[i]\n",
    "    \n",
    "    if rev_string_1 == string_2:\n",
    "        return True\n",
    "    return False\n",
    "\n",
    "str1 = 'Ebuka'\n",
    "str2 = 'akube'\n",
    "print(are_reverses(str1, str2))"
   ]
  },
  {
   "cell_type": "code",
   "execution_count": 50,
   "id": "4bda6c5b",
   "metadata": {},
   "outputs": [
    {
     "name": "stdout",
     "output_type": "stream",
     "text": [
      "True\n"
     ]
    }
   ],
   "source": [
    "# Solution using reversed() method\n",
    "\n",
    "# Solution using loop\n",
    "\n",
    "def are_reverses(string_1, string_2):\n",
    "    if len(string_1) != len(string_2):\n",
    "        return\n",
    "    \n",
    "    rev_string_1 = ''.join(reversed(string_1))\n",
    "    if rev_string_1 == string_2:\n",
    "        return True\n",
    "    \n",
    "    return False\n",
    "\n",
    "str1 = 'Ebuka'\n",
    "str2 = 'akubE'\n",
    "print(are_reverses(str1, str2))"
   ]
  },
  {
   "cell_type": "markdown",
   "id": "339e162b",
   "metadata": {},
   "source": [
    "## 3. Write a function that compares two integers represented as string and returns True if the first string is greater than the second. All exceptions should be handled correctly\n",
    "Example: \"1234\" > \"123\" = True\n",
    "\n",
    "### Clarifying questions:\n",
    "1. Can the string be empty? No\n",
    "2. Can there be negative numbers? No\n",
    "3. Can the numbers have leading zeros e.g \"0034\"? No\n",
    "3. Can I use int(str) to convert the strings to numbers? No, try solving it without typecasting"
   ]
  },
  {
   "cell_type": "code",
   "execution_count": 110,
   "id": "e675f838",
   "metadata": {},
   "outputs": [
    {
     "name": "stdout",
     "output_type": "stream",
     "text": [
      "Case 1: False\n"
     ]
    }
   ],
   "source": [
    "# Solution without int(str) convert method\n",
    "# Exceptions were also raised and handled\n",
    "\n",
    "def compare_numStr(numStr1, numStr2):\n",
    "    try:\n",
    "        if numStr1 == '' or numStr2 == '':\n",
    "            raise ValueError('String must not be empty')\n",
    "            return 'Invalid argument'\n",
    "        if numStr1[0] =='-' or numStr2[0] == '-':\n",
    "            raise ValueError('Negative numbers not allowed')\n",
    "            return 'Invalid argument'\n",
    "        if len(numStr1) > len(numStr2):\n",
    "            lent = len(numStr1)\n",
    "        else:\n",
    "            lent = len(numStr2)\n",
    "        for i in range(lent):\n",
    "            if numStr1[i] == '0' or numStr2[i] == '0':\n",
    "                raise ValueError('String cannot contain a leading zero')\n",
    "                break\n",
    "            elif numStr1[i] != '0' or numStr2[i] != '0':\n",
    "                break\n",
    "    except ValueError as v:\n",
    "        print(v)\n",
    "    else:\n",
    "        if len(numStr1) > len(numStr2):\n",
    "            return True\n",
    "        elif len(numStr1) < len(numStr2):\n",
    "            return False\n",
    "        elif len(numStr1) == len(numStr2):\n",
    "            for i in range(len(numStr1)):\n",
    "                if numStr1[i] > numStr2[i]:\n",
    "                    return True\n",
    "            return False\n",
    "#print(compare_numStr(\"0123\", \"123\"))\n",
    "print('Case 1: {}'.format(compare_numStr(\"222\", \"222\")))"
   ]
  },
  {
   "cell_type": "code",
   "execution_count": 114,
   "id": "97977662",
   "metadata": {},
   "outputs": [
    {
     "name": "stdout",
     "output_type": "stream",
     "text": [
      "True\n",
      "\n",
      "String must not be empty\n",
      "None\n",
      "\n",
      "Negative numbers not allowed\n",
      "None\n",
      "\n",
      "String cannot contain a leading zero\n",
      "None\n",
      "\n",
      "False\n",
      "\n"
     ]
    }
   ],
   "source": [
    "# Test cases\n",
    "\n",
    "print('{}\\n'.format(compare_numStr(\"1234\", \"123\")))\n",
    "print('{}\\n'.format(compare_numStr(\"\", \"666\")))\n",
    "print('{}\\n'.format(compare_numStr(\"12\", \"-10\")))\n",
    "print('{}\\n'.format(compare_numStr(\"0012\", \"24\")))\n",
    "print('{}\\n'.format(compare_numStr(\"222\", \"222\")))\n"
   ]
  },
  {
   "cell_type": "code",
   "execution_count": 57,
   "id": "30cb9762",
   "metadata": {},
   "outputs": [
    {
     "name": "stdout",
     "output_type": "stream",
     "text": [
      "True\n"
     ]
    }
   ],
   "source": [
    "# Typecast the strings to int before comparison\n",
    "\n",
    "\n",
    "def compare_numStr(numStr1, numStr2):\n",
    "    if int(numStr1) > int(numStr2):\n",
    "        return True\n",
    "    else:\n",
    "        return False\n",
    "    \n",
    "print(compare_numStr(\"234\", \"12\"))"
   ]
  },
  {
   "cell_type": "markdown",
   "id": "30d4bafa",
   "metadata": {},
   "source": []
  }
 ],
 "metadata": {
  "kernelspec": {
   "display_name": "Python 3 (ipykernel)",
   "language": "python",
   "name": "python3"
  },
  "language_info": {
   "codemirror_mode": {
    "name": "ipython",
    "version": 3
   },
   "file_extension": ".py",
   "mimetype": "text/x-python",
   "name": "python",
   "nbconvert_exporter": "python",
   "pygments_lexer": "ipython3",
   "version": "3.10.6"
  }
 },
 "nbformat": 4,
 "nbformat_minor": 5
}
