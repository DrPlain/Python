{
 "cells": [
  {
   "cell_type": "code",
   "execution_count": 5,
   "id": "e0026579",
   "metadata": {},
   "outputs": [
    {
     "name": "stdout",
     "output_type": "stream",
     "text": [
      "27\n"
     ]
    }
   ],
   "source": [
    "from functools import reduce\n",
    "\n",
    "#Lambda functions (like Macros in C)\n",
    "pow = lambda a, b : a ** b\n",
    "print(pow(3, 3))"
   ]
  },
  {
   "cell_type": "code",
   "execution_count": 2,
   "id": "e5a31f3e",
   "metadata": {},
   "outputs": [
    {
     "name": "stdout",
     "output_type": "stream",
     "text": [
      "[1, 9, 16, 25, 64, 81, 25]\n"
     ]
    }
   ],
   "source": [
    "#To run a function through each item in a list use map()\n",
    "list1 = [1, 3, 4, 5, 8, 9, 5,]\n",
    "\n",
    "list2 = list(map(lambda a : a ** 2, list1))\n",
    "print(list2)"
   ]
  },
  {
   "cell_type": "code",
   "execution_count": 3,
   "id": "9a7015ea",
   "metadata": {},
   "outputs": [
    {
     "name": "stdout",
     "output_type": "stream",
     "text": [
      "[4, 8]\n"
     ]
    }
   ],
   "source": [
    "#To filter a list through a condition use filter()\n",
    "def isEven(n):\n",
    "    return n % 2 == 0\n",
    "list3 = list(filter(lambda a : a % 2 == 0, list1))\n",
    "print(list3)"
   ]
  },
  {
   "cell_type": "code",
   "execution_count": 4,
   "id": "e924140a",
   "metadata": {},
   "outputs": [
    {
     "name": "stdout",
     "output_type": "stream",
     "text": [
      "650\n",
      "650\n"
     ]
    }
   ],
   "source": [
    "#list of tupples, calculating sum using iteration and reduce()\n",
    "expenses = [('Breakfast', 150), ('Dinner', 500)]\n",
    "sum = 0\n",
    "for meal in expenses:\n",
    "    sum += meal[1]\n",
    "print(sum)\n",
    "\n",
    "sum = reduce(lambda a, b : a[1] + b[1], expenses)\n",
    "print(sum)"
   ]
  },
  {
   "cell_type": "code",
   "execution_count": null,
   "id": "fe8289a5",
   "metadata": {},
   "outputs": [],
   "source": [
    "#list compresions\n",
    "numbers = [2, 4, 6, 2, 7, 1, 2]\n",
    "numbers_pow3 = [n**3 for n in numbers]\n",
    "print(numbers_pow3)"
   ]
  }
 ],
 "metadata": {
  "kernelspec": {
   "display_name": "Python 3 (ipykernel)",
   "language": "python",
   "name": "python3"
  },
  "language_info": {
   "codemirror_mode": {
    "name": "ipython",
    "version": 3
   },
   "file_extension": ".py",
   "mimetype": "text/x-python",
   "name": "python",
   "nbconvert_exporter": "python",
   "pygments_lexer": "ipython3",
   "version": "3.10.6"
  }
 },
 "nbformat": 4,
 "nbformat_minor": 5
}
